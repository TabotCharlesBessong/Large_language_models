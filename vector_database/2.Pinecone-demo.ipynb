{
 "cells": [
  {
   "cell_type": "code",
   "execution_count": null,
   "id": "b0e705bb",
   "metadata": {},
   "outputs": [],
   "source": [
    "# "
   ]
  },
  {
   "cell_type": "code",
   "execution_count": 2,
   "id": "8780945f",
   "metadata": {},
   "outputs": [
    {
     "name": "stdout",
     "output_type": "stream",
     "text": [
      "Collecting gdown\n",
      "  Downloading gdown-5.2.0-py3-none-any.whl.metadata (5.8 kB)\n",
      "Requirement already satisfied: beautifulsoup4 in c:\\users\\group\\appdata\\roaming\\python\\python312\\site-packages (from gdown) (4.12.3)\n",
      "Requirement already satisfied: filelock in c:\\users\\group\\appdata\\roaming\\python\\python312\\site-packages (from gdown) (3.17.0)\n",
      "Requirement already satisfied: requests[socks] in c:\\users\\group\\appdata\\roaming\\python\\python312\\site-packages (from gdown) (2.32.3)\n",
      "Requirement already satisfied: tqdm in c:\\users\\group\\appdata\\roaming\\python\\python312\\site-packages (from gdown) (4.66.5)\n",
      "Requirement already satisfied: soupsieve>1.2 in c:\\users\\group\\appdata\\roaming\\python\\python312\\site-packages (from beautifulsoup4->gdown) (2.6)\n",
      "Requirement already satisfied: charset-normalizer<4,>=2 in c:\\users\\group\\appdata\\roaming\\python\\python312\\site-packages (from requests[socks]->gdown) (3.3.2)\n",
      "Requirement already satisfied: idna<4,>=2.5 in c:\\users\\group\\appdata\\roaming\\python\\python312\\site-packages (from requests[socks]->gdown) (3.8)\n",
      "Requirement already satisfied: urllib3<3,>=1.21.1 in c:\\users\\group\\appdata\\roaming\\python\\python312\\site-packages (from requests[socks]->gdown) (2.2.2)\n",
      "Requirement already satisfied: certifi>=2017.4.17 in c:\\users\\group\\appdata\\roaming\\python\\python312\\site-packages (from requests[socks]->gdown) (2024.8.30)\n",
      "Requirement already satisfied: PySocks!=1.5.7,>=1.5.6 in c:\\users\\group\\anaconda3\\lib\\site-packages (from requests[socks]->gdown) (1.7.1)\n",
      "Requirement already satisfied: colorama in c:\\users\\group\\appdata\\roaming\\python\\python312\\site-packages (from tqdm->gdown) (0.4.6)\n",
      "Downloading gdown-5.2.0-py3-none-any.whl (18 kB)\n",
      "Installing collected packages: gdown\n",
      "Successfully installed gdown-5.2.0\n",
      "Note: you may need to restart the kernel to use updated packages.\n"
     ]
    },
    {
     "name": "stderr",
     "output_type": "stream",
     "text": [
      "\n",
      "[notice] A new release of pip is available: 25.0.1 -> 25.1.1\n",
      "[notice] To update, run: python.exe -m pip install --upgrade pip\n"
     ]
    }
   ],
   "source": [
    "%pip install gdown"
   ]
  },
  {
   "cell_type": "code",
   "execution_count": 3,
   "id": "3b44c1cd",
   "metadata": {},
   "outputs": [
    {
     "name": "stderr",
     "output_type": "stream",
     "text": [
      "Downloading...\n",
      "From: https://drive.google.com/uc?id=1hPQlXrX8FbaYaLypxTmeVOFNitbBMlEE\n",
      "To: d:\\charlesDevelopment\\Large_language_models\\vector_database\\DATA\\pdfs\\yolov7paper.pdf\n",
      "\n",
      "  0%|          | 0.00/2.27M [00:00<?, ?B/s]\n",
      " 23%|██▎       | 524k/2.27M [00:01<00:03, 449kB/s]\n",
      " 46%|████▌     | 1.05M/2.27M [00:01<00:01, 827kB/s]\n",
      " 69%|██████▉   | 1.57M/2.27M [00:01<00:00, 1.20MB/s]\n",
      "100%|██████████| 2.27M/2.27M [00:01<00:00, 1.88MB/s]\n",
      "100%|██████████| 2.27M/2.27M [00:01<00:00, 1.29MB/s]\n",
      "Downloading...\n",
      "From: https://drive.google.com/uc?id=1vILwiv6nS2wI3chxNabMgry3qnV67TxM\n",
      "To: d:\\charlesDevelopment\\Large_language_models\\vector_database\\DATA\\pdfs\\rachelgreecv.pdf\n",
      "\n",
      "  0%|          | 0.00/271k [00:00<?, ?B/s]\n",
      "100%|██████████| 271k/271k [00:00<00:00, 322kB/s]\n",
      "100%|██████████| 271k/271k [00:00<00:00, 322kB/s]\n"
     ]
    }
   ],
   "source": [
    "!gdown 1hPQlXrX8FbaYaLypxTmeVOFNitbBMlEE -O DATA/pdfs/yolov7paper.pdf\n",
    "!gdown 1vILwiv6nS2wI3chxNabMgry3qnV67TxM -O DATA/pdfs/rachelgreecv.pdf"
   ]
  },
  {
   "cell_type": "code",
   "execution_count": null,
   "id": "7316197b",
   "metadata": {},
   "outputs": [],
   "source": []
  }
 ],
 "metadata": {
  "kernelspec": {
   "display_name": "base",
   "language": "python",
   "name": "python3"
  },
  "language_info": {
   "codemirror_mode": {
    "name": "ipython",
    "version": 3
   },
   "file_extension": ".py",
   "mimetype": "text/x-python",
   "name": "python",
   "nbconvert_exporter": "python",
   "pygments_lexer": "ipython3",
   "version": "3.12.7"
  }
 },
 "nbformat": 4,
 "nbformat_minor": 5
}
