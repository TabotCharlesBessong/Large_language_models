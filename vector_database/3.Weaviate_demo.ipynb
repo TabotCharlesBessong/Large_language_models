{
 "cells": [
  {
   "cell_type": "code",
   "execution_count": null,
   "id": "d817515a",
   "metadata": {},
   "outputs": [
    {
     "name": "stdout",
     "output_type": "stream",
     "text": [
      "^C\n",
      "Note: you may need to restart the kernel to use updated packages.\n"
     ]
    },
    {
     "name": "stdout",
     "output_type": "stream",
     "text": [
      "Collecting weaviate-client\n",
      "  Downloading weaviate_client-4.15.0-py3-none-any.whl.metadata (3.7 kB)\n",
      "Requirement already satisfied: httpx<0.29.0,>=0.26.0 in c:\\users\\group\\appdata\\roaming\\python\\python312\\site-packages (from weaviate-client) (0.28.1)\n",
      "Collecting validators==0.34.0 (from weaviate-client)\n",
      "  Using cached validators-0.34.0-py3-none-any.whl.metadata (3.8 kB)\n",
      "Collecting authlib<1.3.2,>=1.2.1 (from weaviate-client)\n",
      "  Using cached Authlib-1.3.1-py2.py3-none-any.whl.metadata (3.8 kB)\n",
      "Requirement already satisfied: pydantic<3.0.0,>=2.8.0 in c:\\users\\group\\appdata\\roaming\\python\\python312\\site-packages (from weaviate-client) (2.8.2)\n",
      "INFO: pip is looking at multiple versions of weaviate-client to determine which version is compatible with other requirements. This could take a while.\n",
      "Collecting weaviate-client\n",
      "  Downloading weaviate_client-4.14.4-py3-none-any.whl.metadata (3.7 kB)\n",
      "  Downloading weaviate_client-4.14.3-py3-none-any.whl.metadata (3.7 kB)\n",
      "  Using cached weaviate_client-4.14.1-py3-none-any.whl.metadata (3.7 kB)\n",
      "  Using cached weaviate_client-4.14.0-py3-none-any.whl.metadata (3.7 kB)\n",
      "  Using cached weaviate_client-4.13.2-py3-none-any.whl.metadata (3.7 kB)\n",
      "  Using cached weaviate_client-4.13.1-py3-none-any.whl.metadata (3.7 kB)\n",
      "  Using cached weaviate_client-4.13.0-py3-none-any.whl.metadata (3.7 kB)\n",
      "INFO: pip is still looking at multiple versions of weaviate-client to determine which version is compatible with other requirements. This could take a while.\n",
      "  Using cached weaviate_client-4.12.1-py3-none-any.whl.metadata (3.7 kB)\n",
      "  Using cached weaviate_client-4.12.0-py3-none-any.whl.metadata (3.7 kB)\n",
      "  Using cached weaviate_client-4.11.3-py3-none-any.whl.metadata (3.7 kB)\n",
      "  Using cached weaviate_client-4.11.2-py3-none-any.whl.metadata (3.6 kB)\n",
      "  Using cached weaviate_client-4.11.1-py3-none-any.whl.metadata (3.6 kB)\n",
      "INFO: This is taking longer than usual. You might need to provide the dependency resolver with stricter constraints to reduce runtime. See https://pip.pypa.io/warnings/backtracking for guidance. If you want to abort this run, press Ctrl + C.\n",
      "  Using cached weaviate_client-4.11.0-py3-none-any.whl.metadata (3.6 kB)\n",
      "  Using cached weaviate_client-4.10.4-py3-none-any.whl.metadata (3.6 kB)\n",
      "  Using cached weaviate_client-4.10.3-py3-none-any.whl.metadata (3.6 kB)\n",
      "  Using cached weaviate_client-4.10.2-py3-none-any.whl.metadata (3.6 kB)\n",
      "  Using cached weaviate_client-4.10.1-py3-none-any.whl.metadata (3.6 kB)\n",
      "  Using cached weaviate_client-4.10.0-py3-none-any.whl.metadata (3.6 kB)\n",
      "Collecting httpx<=0.27.0,>=0.25.0 (from weaviate-client)\n",
      "  Using cached httpx-0.27.0-py3-none-any.whl.metadata (7.2 kB)\n",
      "Collecting weaviate-client\n",
      "  Using cached weaviate_client-4.9.6-py3-none-any.whl.metadata (3.6 kB)\n",
      "Requirement already satisfied: requests<3.0.0,>=2.30.0 in c:\\users\\group\\appdata\\roaming\\python\\python312\\site-packages (from weaviate-client) (2.32.3)\n",
      "Requirement already satisfied: grpcio<2.0.0,>=1.57.0 in c:\\users\\group\\appdata\\roaming\\python\\python312\\site-packages (from weaviate-client) (1.66.1)\n",
      "  Downloading weaviate_client-4.9.5-py3-none-any.whl.metadata (3.6 kB)\n",
      "  Downloading weaviate_client-4.9.4-py3-none-any.whl.metadata (3.6 kB)\n",
      "  Downloading weaviate_client-4.9.3-py3-none-any.whl.metadata (3.6 kB)\n",
      "  Downloading weaviate_client-4.9.2-py3-none-any.whl.metadata (3.6 kB)\n",
      "  Downloading weaviate_client-4.9.1-py3-none-any.whl.metadata (3.6 kB)\n",
      "  Downloading weaviate_client-4.9.0-py3-none-any.whl.metadata (3.6 kB)\n",
      "  Downloading weaviate_client-4.8.1-py3-none-any.whl.metadata (3.6 kB)\n",
      "  Downloading weaviate_client-4.8.0-py3-none-any.whl.metadata (3.6 kB)\n",
      "Collecting validators==0.33.0 (from weaviate-client)\n",
      "  Downloading validators-0.33.0-py3-none-any.whl.metadata (3.8 kB)\n",
      "Collecting authlib<2.0.0,>=1.2.1 (from weaviate-client)\n",
      "  Downloading authlib-1.6.0-py2.py3-none-any.whl.metadata (4.1 kB)\n",
      "Collecting weaviate-client\n",
      "  Downloading weaviate_client-4.7.1-py3-none-any.whl.metadata (3.3 kB)\n",
      "  Downloading weaviate_client-4.7.0-py3-none-any.whl.metadata (3.3 kB)\n",
      "  Downloading weaviate_client-4.6.7-py3-none-any.whl.metadata (3.3 kB)\n",
      "  Downloading weaviate_client-4.6.5-py3-none-any.whl.metadata (3.3 kB)\n",
      "Collecting validators==0.28.3 (from weaviate-client)\n",
      "  Downloading validators-0.28.3-py3-none-any.whl.metadata (3.6 kB)\n",
      "Collecting weaviate-client\n",
      "  Downloading weaviate_client-4.6.4-py3-none-any.whl.metadata (3.3 kB)\n",
      "  Downloading weaviate_client-4.6.3-py3-none-any.whl.metadata (3.3 kB)\n",
      "Collecting validators==0.28.1 (from weaviate-client)\n",
      "  Downloading validators-0.28.1-py3-none-any.whl.metadata (3.6 kB)\n",
      "Collecting weaviate-client\n",
      "  Downloading weaviate_client-4.6.2-py3-none-any.whl.metadata (3.3 kB)\n",
      "  Downloading weaviate_client-4.6.1-py3-none-any.whl.metadata (3.3 kB)\n",
      "  Downloading weaviate_client-4.6.0-py3-none-any.whl.metadata (3.3 kB)\n",
      "  Downloading weaviate_client-4.5.7-py3-none-any.whl.metadata (3.3 kB)\n",
      "  Downloading weaviate_client-4.5.6-py3-none-any.whl.metadata (3.3 kB)\n",
      "Collecting validators==0.28.0 (from weaviate-client)\n",
      "  Downloading validators-0.28.0-py3-none-any.whl.metadata (3.6 kB)\n",
      "Collecting weaviate-client\n",
      "  Downloading weaviate_client-4.5.5-py3-none-any.whl.metadata (3.3 kB)\n",
      "Collecting validators==0.22.0 (from weaviate-client)\n",
      "  Downloading validators-0.22.0-py3-none-any.whl.metadata (4.7 kB)\n",
      "Collecting weaviate-client\n",
      "  Downloading weaviate_client-4.5.4-py3-none-any.whl.metadata (3.3 kB)\n",
      "  Downloading weaviate_client-4.5.3-py3-none-any.whl.metadata (3.3 kB)\n",
      "  Downloading weaviate_client-4.5.2-py3-none-any.whl.metadata (3.3 kB)\n",
      "  Downloading weaviate_client-4.5.1-py3-none-any.whl.metadata (3.3 kB)\n",
      "  Downloading weaviate_client-4.5.0-py3-none-any.whl.metadata (3.3 kB)\n",
      "  Downloading weaviate_client-4.4.4-py3-none-any.whl.metadata (3.5 kB)\n",
      "Collecting httpx==0.26.0 (from weaviate-client)\n",
      "  Downloading httpx-0.26.0-py3-none-any.whl.metadata (7.6 kB)\n",
      "Collecting weaviate-client\n",
      "  Downloading weaviate_client-4.4.3-py3-none-any.whl.metadata (3.5 kB)\n",
      "  Downloading weaviate_client-4.4.2-py3-none-any.whl.metadata (3.5 kB)\n",
      "  Downloading weaviate_client-4.4.1-py3-none-any.whl.metadata (3.4 kB)\n",
      "  Downloading weaviate_client-4.4.0-py3-none-any.whl.metadata (3.4 kB)\n",
      "  Downloading weaviate_client-3.26.7-py3-none-any.whl.metadata (3.4 kB)\n",
      "Collecting validators<1.0.0,>=0.21.2 (from weaviate-client)\n",
      "  Using cached validators-0.35.0-py3-none-any.whl.metadata (3.9 kB)\n",
      "Requirement already satisfied: cryptography in c:\\users\\group\\appdata\\roaming\\python\\python312\\site-packages (from authlib<2.0.0,>=1.2.1->weaviate-client) (44.0.0)\n",
      "Requirement already satisfied: charset-normalizer<4,>=2 in c:\\users\\group\\appdata\\roaming\\python\\python312\\site-packages (from requests<3.0.0,>=2.30.0->weaviate-client) (3.3.2)\n",
      "Requirement already satisfied: idna<4,>=2.5 in c:\\users\\group\\appdata\\roaming\\python\\python312\\site-packages (from requests<3.0.0,>=2.30.0->weaviate-client) (3.8)\n",
      "Requirement already satisfied: urllib3<3,>=1.21.1 in c:\\users\\group\\appdata\\roaming\\python\\python312\\site-packages (from requests<3.0.0,>=2.30.0->weaviate-client) (2.2.2)\n",
      "Requirement already satisfied: certifi>=2017.4.17 in c:\\users\\group\\appdata\\roaming\\python\\python312\\site-packages (from requests<3.0.0,>=2.30.0->weaviate-client) (2024.8.30)\n",
      "Requirement already satisfied: cffi>=1.12 in c:\\users\\group\\appdata\\roaming\\python\\python312\\site-packages (from cryptography->authlib<2.0.0,>=1.2.1->weaviate-client) (1.17.1)\n",
      "Requirement already satisfied: pycparser in c:\\users\\group\\appdata\\roaming\\python\\python312\\site-packages (from cffi>=1.12->cryptography->authlib<2.0.0,>=1.2.1->weaviate-client) (2.22)\n",
      "Downloading weaviate_client-3.26.7-py3-none-any.whl (120 kB)\n",
      "Downloading authlib-1.6.0-py2.py3-none-any.whl (239 kB)\n",
      "Downloading validators-0.35.0-py3-none-any.whl (44 kB)\n",
      "Installing collected packages: validators, authlib, weaviate-client\n",
      "Successfully installed authlib-1.6.0 validators-0.35.0 weaviate-client-3.26.7\n"
     ]
    },
    {
     "name": "stderr",
     "output_type": "stream",
     "text": [
      "  WARNING: Retrying (Retry(total=4, connect=None, read=None, redirect=None, status=None)) after connection broken by 'ReadTimeoutError(\"HTTPSConnectionPool(host='files.pythonhosted.org', port=443): Read timed out. (read timeout=15)\")': /packages/2d/a2/bf731769116e998e0becc5289179bb65fb0d1596cf5cf649fd6f0360e90e/weaviate_client-4.14.3-py3-none-any.whl.metadata\n",
      "\n",
      "[notice] A new release of pip is available: 25.0.1 -> 25.1.1\n",
      "[notice] To update, run: python.exe -m pip install --upgrade pip\n"
     ]
    }
   ],
   "source": [
    "# "
   ]
  },
  {
   "cell_type": "code",
   "execution_count": null,
   "id": "7bda9130",
   "metadata": {},
   "outputs": [],
   "source": []
  }
 ],
 "metadata": {
  "kernelspec": {
   "display_name": "base",
   "language": "python",
   "name": "python3"
  },
  "language_info": {
   "codemirror_mode": {
    "name": "ipython",
    "version": 3
   },
   "file_extension": ".py",
   "mimetype": "text/x-python",
   "name": "python",
   "nbconvert_exporter": "python",
   "pygments_lexer": "ipython3",
   "version": "3.12.7"
  }
 },
 "nbformat": 4,
 "nbformat_minor": 5
}
