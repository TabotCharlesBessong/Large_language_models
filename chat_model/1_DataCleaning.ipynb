{
 "cells": [
  {
   "cell_type": "markdown",
   "metadata": {},
   "source": [
    "## Reading files"
   ]
  },
  {
   "cell_type": "markdown",
   "metadata": {},
   "source": [
    "We will read the `.txt` files line by line and apply these filters:  \n",
    "\n",
    "1. **Remove lines containing a WhatsApp encryption notice**  \n",
    "   - ❌ **Before:** `dd/mm/yyyy, hh:mm - Messages and calls are end-to-end encrypted. No one outside of this chat, not even WhatsApp, can read or listen to them. Tap to learn more.`  \n",
    "   - ✅ **After:** (Removed)  \n",
    "\n",
    "2. **Remove lines with `<Media omitted>`**  \n",
    "   - ❌ **Before:** `dd/mm/yyyy, hh:mm - Person: <Media omitted>`  \n",
    "   - ✅ **After:** (Removed)  \n",
    "\n",
    "3. **Remove lines containing email addresses**  \n",
    "   - ❌ **Before:** `dd/mm/yyyy, hh:mm - Person: example@gmail.com`  \n",
    "   - ✅ **After:** (Removed)  \n",
    "\n",
    "4. **Remove lines containing links**  \n",
    "   - ❌ **Before:** `dd/mm/yyyy, hh:mm - Person: https://www.example.com/`  \n",
    "   - ✅ **After:** (Removed)  \n",
    "\n",
    "5. **Replace `<This message was edited>` with an empty string**\n",
    "   - ❌ **Before:** `dd/mm/yyyy, hh:mm - Person: hey, how are you? <This message was edited>`\n",
    "   - ✅ **After:** `dd/mm/yyyy, hh:mm - Person: hey, how are you?`\n",
    "\n",
    "6. **Remove lines with the text `You deleted this message`**  \n",
    "   - ❌ **Before:** `dd/mm/yyyy, hh:mm - Person: You deleted this message`  \n",
    "   - ✅ **After:** (Removed)  \n",
    "\n",
    "7. **Remove lines with the text `null`**  \n",
    "   - ❌ **Before:** `dd/mm/yyyy, hh:mm - Person: null`  \n",
    "   - ✅ **After:** (Removed)  \n",
    "\n",
    "8. **Remove lines with the text `created group`**  \n",
    "   - ❌ **Before:** `dd/mm/yyyy, hh:mm - Person created group \"group name\"`  \n",
    "   - ✅ **After:** (Removed)  \n",
    "\n",
    "9. **Remove lines with the text `added you`**  \n",
    "   - ❌ **Before:** `dd/mm/yyyy, hh:mm - Person added you`  \n",
    "   - ✅ **After:** (Removed)  \n",
    "\n",
    "10. **Replace tagging (`@person`) with an empty string**  \n",
    "   - ❌ **Before:** `dd/mm/yyyy, hh:mm - Person: @person are you coming?`  \n",
    "   - ✅ **After:** `dd/mm/yyyy, hh:mm - Person: are you coming?`  "
   ]
  },
  {
   "cell_type": "code",
   "execution_count": 32,
   "metadata": {},
   "outputs": [],
   "source": [
    "import re\n",
    "import pandas as pd\n",
    "\n",
    "\n",
    "def read_whatsapp_chat(file_path: str) -> pd.DataFrame:\n",
    "    # Define filtering patterns\n",
    "    encryption_message = \"Messages and calls are end-to-end encrypted. No one outside of this chat, not even WhatsApp, can read or listen to them. Tap to learn more.\"\n",
    "    media_pattern = \"<Media omitted>\"\n",
    "    email_pattern = r'[A-Za-z0-9._%+-]+@[A-Za-z0-9.-]+\\.[A-Z|a-z]{2,}'\n",
    "    url_pattern = r'http[s]?://(?:[a-zA-Z]|[0-9]|[$-_@.&+]|[!*\\(\\),]|(?:%[0-9a-fA-F][0-9a-fA-F]))+'\n",
    "    edited_message = \"<This message was edited>\"\n",
    "    deleted_message = \"You deleted this message\"\n",
    "    null_message = \"null\"\n",
    "    created_group_message = \"created group\"\n",
    "    added_you_to_group_message = \"added you\"\n",
    "    tagging_pattern = r'@[\\w]+'\n",
    "\n",
    "    with open(file_path, 'r', encoding='utf-8') as f:\n",
    "        lines = f.readlines()\n",
    "\n",
    "    # Apply filters to remove unwanted lines\n",
    "    filtered_lines = []\n",
    "    for line in lines:\n",
    "        if (\n",
    "            encryption_message not in line and\n",
    "            deleted_message not in line and\n",
    "            null_message != line.split(\" \")[-1] and\n",
    "            media_pattern not in line and\n",
    "            created_group_message not in line and\n",
    "            added_you_to_group_message not in line and\n",
    "            not re.search(email_pattern, line) and\n",
    "            not re.search(url_pattern, line)\n",
    "        ):\n",
    "            line = line.replace(edited_message, \"\").strip()\n",
    "            line = re.sub(tagging_pattern, \"\", line).strip()\n",
    "            filtered_lines.append(line)\n",
    "\n",
    "    # Regular expression to match WhatsApp message format\n",
    "    pattern = r'(\\d{1,2}/\\d{1,2}/\\d{2,4}, \\d{1,2}:\\d{2}(?:\\u202f?[APMapm]{2})?) - (.*?): (.*?)(?=\\n\\d{1,2}/\\d{1,2}/\\d{2,4}, \\d{1,2}:\\d{2})'\n",
    "\n",
    "    content = '\\n'.join(filtered_lines)\n",
    "    messages = re.findall(pattern, content, re.DOTALL)\n",
    "\n",
    "    # Build DataFrame\n",
    "    df = pd.DataFrame(messages, columns=['timestamp', 'sender', 'message'])\n",
    "\n",
    "    # Attempt to parse datetime flexibly\n",
    "    df['timestamp'] = pd.to_datetime(df['timestamp'], errors='coerce', dayfirst=True)\n",
    "\n",
    "    # Drop rows with invalid timestamps (i.e., parsing failed)\n",
    "    df = df.dropna(subset=['timestamp'])\n",
    "    return df"
   ]
  },
  {
   "cell_type": "markdown",
   "metadata": {},
   "source": [
    "The `all_chats` dictionary holds the content of each file as a dataframe with three columns: `timestamp`, `sender`, and `message`.  "
   ]
  },
  {
   "cell_type": "code",
   "execution_count": 33,
   "metadata": {},
   "outputs": [
    {
     "name": "stderr",
     "output_type": "stream",
     "text": [
      "C:\\Users\\GROUP\\AppData\\Local\\Temp\\ipykernel_9604\\1717854921.py:48: UserWarning: Could not infer format, so each element will be parsed individually, falling back to `dateutil`. To ensure parsing is consistent and as-expected, please specify a format.\n",
      "  df['timestamp'] = pd.to_datetime(df['timestamp'], errors='coerce', dayfirst=True)\n"
     ]
    }
   ],
   "source": [
    "from pathlib import Path\n",
    "\n",
    "all_chats = {}\n",
    "data_directory = Path(\"./DATA/WhatsApp Chat with Ma-Tabot 💞💗\")\n",
    "for file in data_directory.glob('*.txt'):\n",
    "    file_name = file.stem\n",
    "    all_chats[file_name] = read_whatsapp_chat(file)"
   ]
  },
  {
   "cell_type": "markdown",
   "metadata": {},
   "source": [
    "## Text sequence"
   ]
  },
  {
   "cell_type": "markdown",
   "metadata": {},
   "source": [
    "The text should be merged into a single sequence to prepare it for the next step, where the BPE algorithm will be applied and the text will be encoded."
   ]
  },
  {
   "cell_type": "code",
   "execution_count": 34,
   "metadata": {},
   "outputs": [
    {
     "data": {
      "text/plain": [
       "169976"
      ]
     },
     "execution_count": 34,
     "metadata": {},
     "output_type": "execute_result"
    }
   ],
   "source": [
    "text_sequence = \"\"\n",
    "for file_name in all_chats.keys():\n",
    "    text_sequence += \" \".join(all_chats[file_name]['message'].values)\n",
    "\n",
    "len(text_sequence)"
   ]
  },
  {
   "cell_type": "code",
   "execution_count": 35,
   "metadata": {},
   "outputs": [],
   "source": [
    "with open(\"./output/combined_text.txt\", \"w\") as f:\n",
    "    f.write(text_sequence)"
   ]
  },
  {
   "cell_type": "code",
   "execution_count": 36,
   "metadata": {},
   "outputs": [
    {
     "name": "stdout",
     "output_type": "stream",
     "text": [
      "12/13/24, 7:13 PM - Messages and calls are end-to-end encrypted. No one outside of this chat, not even WhatsApp, can read or listen to them. Tap to learn more.\n",
      "12/19/24, 2:16 PM - Ma-Tabot 💞💗: Good afternoon boss, how are you doing\n",
      "12/19/24, 2:17 PM - Ma-Tabot 💞💗: How's everything been going?\n",
      "12/19/24, 6:29 PM - Tabot Charles Bessong II💞: Good evening mom am good and you?\n",
      "12/19/24, 6:30 PM - Tabot Charles Bessong II💞: Better and on your end ?\n",
      "12/20/24, 8:01 AM - Ma-Tabot 💞💗: I'm good thanks\n",
      "12/2\n"
     ]
    }
   ],
   "source": [
    "with open(\"./DATA/WhatsApp Chat with Ma-Tabot 💞💗/WhatsApp Chat with Ma-Tabot 💞💗.txt\", encoding='utf-8') as f:\n",
    "    text = f.read()\n",
    "    print(text[:500])  # preview the first 500 characters\n"
   ]
  },
  {
   "cell_type": "code",
   "execution_count": 37,
   "metadata": {},
   "outputs": [
    {
     "name": "stderr",
     "output_type": "stream",
     "text": [
      "C:\\Users\\GROUP\\AppData\\Local\\Temp\\ipykernel_9604\\1717854921.py:48: UserWarning: Could not infer format, so each element will be parsed individually, falling back to `dateutil`. To ensure parsing is consistent and as-expected, please specify a format.\n",
      "  df['timestamp'] = pd.to_datetime(df['timestamp'], errors='coerce', dayfirst=True)\n"
     ]
    },
    {
     "data": {
      "text/html": [
       "<div>\n",
       "<style scoped>\n",
       "    .dataframe tbody tr th:only-of-type {\n",
       "        vertical-align: middle;\n",
       "    }\n",
       "\n",
       "    .dataframe tbody tr th {\n",
       "        vertical-align: top;\n",
       "    }\n",
       "\n",
       "    .dataframe thead th {\n",
       "        text-align: right;\n",
       "    }\n",
       "</style>\n",
       "<table border=\"1\" class=\"dataframe\">\n",
       "  <thead>\n",
       "    <tr style=\"text-align: right;\">\n",
       "      <th></th>\n",
       "      <th>timestamp</th>\n",
       "      <th>sender</th>\n",
       "      <th>message</th>\n",
       "    </tr>\n",
       "  </thead>\n",
       "  <tbody>\n",
       "    <tr>\n",
       "      <th>0</th>\n",
       "      <td>2024-12-19 14:16:00</td>\n",
       "      <td>Ma-Tabot 💞💗</td>\n",
       "      <td>Good afternoon boss, how are you doing</td>\n",
       "    </tr>\n",
       "    <tr>\n",
       "      <th>1</th>\n",
       "      <td>2024-12-19 14:17:00</td>\n",
       "      <td>Ma-Tabot 💞💗</td>\n",
       "      <td>How's everything been going?</td>\n",
       "    </tr>\n",
       "    <tr>\n",
       "      <th>2</th>\n",
       "      <td>2024-12-19 18:29:00</td>\n",
       "      <td>Tabot Charles Bessong II💞</td>\n",
       "      <td>Good evening mom am good and you?</td>\n",
       "    </tr>\n",
       "    <tr>\n",
       "      <th>3</th>\n",
       "      <td>2024-12-19 18:30:00</td>\n",
       "      <td>Tabot Charles Bessong II💞</td>\n",
       "      <td>Better and on your end ?</td>\n",
       "    </tr>\n",
       "    <tr>\n",
       "      <th>4</th>\n",
       "      <td>2024-12-20 08:01:00</td>\n",
       "      <td>Ma-Tabot 💞💗</td>\n",
       "      <td>I'm good thanks</td>\n",
       "    </tr>\n",
       "    <tr>\n",
       "      <th>...</th>\n",
       "      <td>...</td>\n",
       "      <td>...</td>\n",
       "      <td>...</td>\n",
       "    </tr>\n",
       "    <tr>\n",
       "      <th>4369</th>\n",
       "      <td>2025-11-04 05:31:00</td>\n",
       "      <td>Tabot Charles Bessong II💞</td>\n",
       "      <td>Yeah they are 3 more all with Gemini AI integr...</td>\n",
       "    </tr>\n",
       "    <tr>\n",
       "      <th>4370</th>\n",
       "      <td>2025-11-04 05:34:00</td>\n",
       "      <td>Ma-Tabot 💞💗</td>\n",
       "      <td>Hmm woww\\nDu bist ein Boss</td>\n",
       "    </tr>\n",
       "    <tr>\n",
       "      <th>4371</th>\n",
       "      <td>2025-11-04 05:34:00</td>\n",
       "      <td>Tabot Charles Bessong II💞</td>\n",
       "      <td>So you can do that, but make sure you understa...</td>\n",
       "    </tr>\n",
       "    <tr>\n",
       "      <th>4372</th>\n",
       "      <td>2025-11-04 05:36:00</td>\n",
       "      <td>Ma-Tabot 💞💗</td>\n",
       "      <td>Yeah definitely</td>\n",
       "    </tr>\n",
       "    <tr>\n",
       "      <th>4373</th>\n",
       "      <td>2025-11-04 05:55:00</td>\n",
       "      <td>Tabot Charles Bessong II💞</td>\n",
       "      <td>Are you feeling better this morning?</td>\n",
       "    </tr>\n",
       "  </tbody>\n",
       "</table>\n",
       "<p>4374 rows × 3 columns</p>\n",
       "</div>"
      ],
      "text/plain": [
       "               timestamp                     sender  \\\n",
       "0    2024-12-19 14:16:00                Ma-Tabot 💞💗   \n",
       "1    2024-12-19 14:17:00                Ma-Tabot 💞💗   \n",
       "2    2024-12-19 18:29:00  Tabot Charles Bessong II💞   \n",
       "3    2024-12-19 18:30:00  Tabot Charles Bessong II💞   \n",
       "4    2024-12-20 08:01:00                Ma-Tabot 💞💗   \n",
       "...                  ...                        ...   \n",
       "4369 2025-11-04 05:31:00  Tabot Charles Bessong II💞   \n",
       "4370 2025-11-04 05:34:00                Ma-Tabot 💞💗   \n",
       "4371 2025-11-04 05:34:00  Tabot Charles Bessong II💞   \n",
       "4372 2025-11-04 05:36:00                Ma-Tabot 💞💗   \n",
       "4373 2025-11-04 05:55:00  Tabot Charles Bessong II💞   \n",
       "\n",
       "                                                message  \n",
       "0                Good afternoon boss, how are you doing  \n",
       "1                          How's everything been going?  \n",
       "2                     Good evening mom am good and you?  \n",
       "3                              Better and on your end ?  \n",
       "4                                       I'm good thanks  \n",
       "...                                                 ...  \n",
       "4369  Yeah they are 3 more all with Gemini AI integr...  \n",
       "4370                         Hmm woww\\nDu bist ein Boss  \n",
       "4371  So you can do that, but make sure you understa...  \n",
       "4372                                    Yeah definitely  \n",
       "4373               Are you feeling better this morning?  \n",
       "\n",
       "[4374 rows x 3 columns]"
      ]
     },
     "execution_count": 37,
     "metadata": {},
     "output_type": "execute_result"
    }
   ],
   "source": [
    "data = read_whatsapp_chat(\"./DATA/WhatsApp Chat with Ma-Tabot 💞💗/WhatsApp Chat with Ma-Tabot 💞💗.txt\")\n",
    "data"
   ]
  },
  {
   "cell_type": "code",
   "execution_count": null,
   "metadata": {},
   "outputs": [],
   "source": []
  }
 ],
 "metadata": {
  "kernelspec": {
   "display_name": "base",
   "language": "python",
   "name": "python3"
  },
  "language_info": {
   "codemirror_mode": {
    "name": "ipython",
    "version": 3
   },
   "file_extension": ".py",
   "mimetype": "text/x-python",
   "name": "python",
   "nbconvert_exporter": "python",
   "pygments_lexer": "ipython3",
   "version": "3.12.7"
  }
 },
 "nbformat": 4,
 "nbformat_minor": 2
}
