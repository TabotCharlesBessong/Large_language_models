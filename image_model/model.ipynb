{
 "cells": [
  {
   "cell_type": "code",
   "execution_count": null,
   "metadata": {},
   "outputs": [],
   "source": [
    "!curl -L http://i.imgur.com/8o9DXSj.jpeg --output image.jpg"
   ]
  },
  {
   "cell_type": "code",
   "execution_count": null,
   "metadata": {},
   "outputs": [],
   "source": [
    "from PIL import  Image\n",
    "\n",
    "img = Image.open(\"image.jpg\")\n",
    "img"
   ]
  },
  {
   "cell_type": "code",
   "execution_count": null,
   "metadata": {},
   "outputs": [],
   "source": [
    "from transformers import AutoProcessor, SiglipVisionModel, SiglipVisionConfig"
   ]
  },
  {
   "cell_type": "code",
   "execution_count": null,
   "metadata": {},
   "outputs": [],
   "source": [
    "processor = AutoProcessor.from_pretrained(\"google/siglip-base-patch16-224\")\n",
    "vision_model = SiglipVisionModel.from_pretrained(\"google/siglip-base-patch16-224\",config=SiglipVisionConfig(vision_use_head=False))"
   ]
  },
  {
   "cell_type": "code",
   "execution_count": null,
   "metadata": {},
   "outputs": [],
   "source": [
    "import torch\n",
    "from torch import nn\n",
    "from torch.nn import functional as F\n",
    "from dataclasses import dataclass\n",
    "from torchvision import transforms"
   ]
  },
  {
   "cell_type": "code",
   "execution_count": null,
   "metadata": {},
   "outputs": [],
   "source": [
    "def preprocesses_image(image,image_size=224):\n",
    "  preprocess = transforms.Compose([transforms.Resize((image_size,image_size)),transforms.ToTensor(),transforms.Normalize(mean=[0.485,0.485,0.406],std=[0.229,0.224,0.225])])\n",
    "  image_tensor = preprocess(image)\n",
    "  image_tensor = image_tensor.unsqueeze(0)\n",
    "  return image_tensor"
   ]
  },
  {
   "cell_type": "code",
   "execution_count": null,
   "metadata": {},
   "outputs": [],
   "source": [
    "image_tensor = preprocesses_image(img)\n",
    "embed_dim = 768\n",
    "patch_size = 16\n",
    "image_size = 224\n",
    "num_patches = (image_size // patch_size) ** 2\n",
    "\n",
    "\n",
    "with torch.no_grad():\n",
    "  patch_embedding = nn.Conv2d(in_channels=3,out_channels=embed_dim,kernel_size=patch_size,stride=patch_size)\n",
    "  patches = patch_embedding(image_tensor)\n",
    "  \n",
    "patches.shape, num_patches"
   ]
  },
  {
   "cell_type": "code",
   "execution_count": null,
   "metadata": {},
   "outputs": [],
   "source": [
    "position_embedding = nn.Embedding(num_patches,embed_dim)\n",
    "position_ids = torch.arange(num_patches).expand((1,-1))\n",
    "\n",
    "position_ids.shape"
   ]
  },
  {
   "cell_type": "code",
   "execution_count": null,
   "metadata": {},
   "outputs": [],
   "source": [
    "# after flattening (1,768,196)\n",
    "embeddings = patches.flatten(start_dim=2,end_dim=-1)\n",
    "embeddings = embeddings.transpose(1,2)\n",
    "embeddings = embeddings + position_embedding(position_ids)\n",
    "embeddings.shape"
   ]
  },
  {
   "cell_type": "code",
   "execution_count": null,
   "metadata": {},
   "outputs": [],
   "source": [
    "import matplotlib.pyplot as plt\n",
    "\n",
    "patches_viz = embeddings[0].detach().numpy()"
   ]
  },
  {
   "cell_type": "code",
   "execution_count": null,
   "metadata": {},
   "outputs": [],
   "source": [
    "plt.figure(figsize=(15, 10))\n",
    "plt.imshow(patches_viz, aspect='auto', cmap='viridis')\n",
    "plt.colorbar()\n",
    "plt.title('Visualization of All Patch Embeddings')\n",
    "plt.xlabel('Embedding Dimension')\n",
    "plt.ylabel('Patch Number')\n",
    "plt.show()"
   ]
  },
  {
   "cell_type": "code",
   "execution_count": null,
   "metadata": {},
   "outputs": [],
   "source": [
    "vision_model.eval()\n",
    "inputs = processor(images=img, return_tensors=\"pt\")\n",
    "\n",
    "with torch.no_grad():\n",
    "  patch_embeddings = vision_model.vision_model.embeddings(inputs.pixel_values)\n",
    "\n",
    "print(patch_embeddings.shape)\n",
    "\n",
    "patches_viz = patch_embeddings[0].detach().numpy()  # Shape: [196, 768]\n",
    "\n",
    "plt.figure(figsize=(15, 10))\n",
    "plt.imshow(patches_viz, aspect='auto', cmap='viridis')\n",
    "plt.colorbar()\n",
    "plt.title('Trained Model: All Patch Embeddings')\n",
    "plt.xlabel('Embedding Dimension')\n",
    "plt.ylabel('Patch Number')\n",
    "plt.show()"
   ]
  },
  {
   "cell_type": "code",
   "execution_count": null,
   "metadata": {},
   "outputs": [],
   "source": [
    "# "
   ]
  }
 ],
 "metadata": {
  "kernelspec": {
   "display_name": "base",
   "language": "python",
   "name": "python3"
  },
  "language_info": {
   "codemirror_mode": {
    "name": "ipython",
    "version": 3
   },
   "file_extension": ".py",
   "mimetype": "text/x-python",
   "name": "python",
   "nbconvert_exporter": "python",
   "pygments_lexer": "ipython3",
   "version": "3.12.7"
  }
 },
 "nbformat": 4,
 "nbformat_minor": 2
}
